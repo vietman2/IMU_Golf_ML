import os
import pandas as pd
import numpy as np
from keras.models import Sequential
from keras.layers import Dense, LSTM, GRU, Dropout
from sklearn.model_selection import train_test_split
from keras.utils import to_categorical


DIR = "../data/Raw/logRaws/"

NUM_SAMPLES = 2662
NUM_FEATURES = 6
NUM_FRAMES = 1000

file_names = os.listdir(DIR)
input_array = np.empty((NUM_SAMPLES, NUM_FRAMES, NUM_FEATURES))
output_array = np.empty((NUM_SAMPLES, NUM_FRAMES, 1))

# prepare data
def read_files(DIR):
    all_files = os.listdir(DIR)

    input_data = np.empty((0, 6), float)
    output_data = np.empty((0, 1), int)

    for file in all_files:
        file_path = os.path.join(DIR, file)
        df = pd.read_csv(file_path, usecols=[1, 3, 19, 20, 21, 25, 26, 27], header=None)
        if df.shape[0] < 999:
            continue

        df.columns = ['frame', 'status', 'accel_x', 'accel_y', 'accel_z', 'gyro_x', 'gyro_y', 'gyro_z']
        df_input = df[['accel_x', 'accel_y', 'accel_z', 'gyro_x', 'gyro_y', 'gyro_z']]
        df_input = df_input.astype('float32')
        df_output = df[['status']]
        df_output = df_output.astype('int')
        df_frames = df[['frame']]
        df_frames = df_frames.astype('int')

        input_data = np.append(input_data, df_input, axis=0)
        output_data = np.append(output_data, df_output, axis=0)

    input_data = input_data.reshape(NUM_SAMPLES, NUM_FRAMES, NUM_FEATURES)
    output_data = output_data.reshape(NUM_SAMPLES, NUM_FRAMES, 1)

    return input_data, output_data

input_data, output_data = read_files(DIR)

print(input_data.shape)
print(output_data.shape)

# one-hot encoding
output_data = to_categorical(output_data)

# split data into train and remaining
X_train, X_remaining, y_train, y_remaining = train_test_split(input_data, output_data, test_size=0.4, random_state=42)

# split the remaining data into test set and validation set (equal split)
X_test, X_val, y_test, y_val = train_test_split(X_remaining, y_remaining, test_size=0.5, random_state=42)

# Create LSTM model
model_lstm_sig = Sequential([
    LSTM(64, input_shape=(NUM_FRAMES, NUM_FEATURES), return_sequences=True),
    Dropout(0.2),
    LSTM(64, return_sequences=True),
    Dropout(0.2),
    Dense(5, activation='sigmoid')
])

model_lstm_relu = Sequential([
    LSTM(64, input_shape=(NUM_FRAMES, NUM_FEATURES), return_sequences=True),
    Dropout(0.2),
    LSTM(64, return_sequences=True),
    Dropout(0.2),
    Dense(5, activation='relu')
])

model_lstm_sig.compile(loss='binary_crossentropy', optimizer='adam', metrics=['accuracy'])
model_lstm_relu.compile(loss='binary_crossentropy', optimizer='adam', metrics=['accuracy'])

# Create GRU model
model_gru_sig = Sequential([
    GRU(64, input_shape=(NUM_FRAMES, NUM_FEATURES), return_sequences=True),
    Dropout(0.2),
    GRU(64, return_sequences=True),
    Dropout(0.2),
    Dense(5, activation='sigmoid')
])

model_gru_relu = Sequential([
    GRU(64, input_shape=(NUM_FRAMES, NUM_FEATURES), return_sequences=True),
    Dropout(0.2),
    GRU(64, return_sequences=True),
    Dropout(0.2),
    Dense(5, activation='relu')
])

model_gru_sig.compile(loss='binary_crossentropy', optimizer='adam', metrics=['accuracy'])
model_gru_relu.compile(loss='binary_crossentropy', optimizer='adam', metrics=['accuracy'])

# Train LSTM model
model_lstm_sig.fit(X_train, y_train, epochs=50, batch_size=32, validation_data=(X_val, y_val))
model_lstm_relu.fit(X_train, y_train, epochs=50, batch_size=32, validation_data=(X_val, y_val))

# Train GRU model
model_gru_sig.fit(X_train, y_train, epochs=50, batch_size=32, validation_data=(X_val, y_val))
model_gru_relu.fit(X_train, y_train, epochs=50, batch_size=32, validation_data=(X_val, y_val))

# Evaluate LSTM model on the test set
score_lstm_sig = model_lstm_sig.evaluate(X_test, y_test, batch_size=32)
score_lstm_relu = model_lstm_relu.evaluate(X_test, y_test, batch_size=32)
print("LSTM SIG Model Score:", score_lstm_sig)
print("LSTM RELU Model Score:", score_lstm_relu)

# Evaluate GRU model on the test set
score_gru_sig = model_gru_sig.evaluate(X_test, y_test, batch_size=32)
score_gru_relu = model_gru_relu.evaluate(X_test, y_test, batch_size=32)
print("GRU SIG Model Score:", score_gru_sig)
print("GRU RELU Model Score:", score_gru_relu)

# Choose and save the best model
best_model = None
best_score = 0.0
models = [score_lstm_sig, score_lstm_relu, score_gru_sig, score_gru_relu]
model_names = ["score_lstm_sig", "score_lstm_relu", "score_gru_sig", "score_gru_relu"]

for model, model_name in zip(models, model_names):
    score = model.evaluate(X_test, y_test, batch_size=32)[1]  
    
    print(f"{model_name} SCORE: {score}")
    
    if score > best_score:
        best_model = model  
        best_score = score  
        best_model_name = model_name

''' save part
best_model.save('best_model.h5')
print(f"The best model is '{best_model_name}' SCORE: {best_score}.")
'''


# print one sample: the frame number when the state changes
def print_frame_change(data):
    for i in range(1, data.shape[0]):
        if data[i] != data[i-1]:
            print(i)

# print this for predicted and actual
print(best_model.predict(X_test)[1])
print(y_test[1])
