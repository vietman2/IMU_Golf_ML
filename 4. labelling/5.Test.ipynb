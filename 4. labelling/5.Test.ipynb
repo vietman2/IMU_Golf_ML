{
 "cells": [
  {
   "cell_type": "code",
   "execution_count": 9,
   "metadata": {},
   "outputs": [
    {
     "name": "stdout",
     "output_type": "stream",
     "text": [
      "Time:  0.268876314163208\n",
      "Time in ms:  268.876314163208\n",
      "Output:  tf.Tensor(\n",
      "[[[0.7839277  0.5101999  0.28570646 0.2856022  0.32446474]\n",
      "  [0.9430478  0.5763453  0.12162066 0.11138456 0.15065932]\n",
      "  [0.98359793 0.6062592  0.05576421 0.04313986 0.06960138]\n",
      "  ...\n",
      "  [0.9997802  0.21568337 0.00307547 0.00767773 0.01429565]\n",
      "  [0.9997802  0.21569577 0.00307499 0.00767768 0.01429261]\n",
      "  [0.9997802  0.21570809 0.00307453 0.00767761 0.01428959]]], shape=(1, 1000, 5), dtype=float32)\n",
      "Time:  0.23042631149291992\n",
      "Time in ms:  230.42631149291992\n",
      "Output:  tf.Tensor(\n",
      "[[[5.6209296e-01 3.8119808e-01 2.7765396e-01 2.4861400e-01 3.0791911e-01]\n",
      "  [7.0141035e-01 2.2769798e-01 9.9752031e-02 5.3169034e-02 1.2333572e-01]\n",
      "  [8.6568791e-01 8.3115041e-02 1.6631730e-02 3.5042395e-03 2.1067265e-02]\n",
      "  ...\n",
      "  [9.9862534e-01 1.5181603e-03 3.9031965e-04 6.1259734e-06 1.7428507e-04]\n",
      "  [9.9862534e-01 1.5181603e-03 3.9031930e-04 6.1259734e-06 1.7428507e-04]\n",
      "  [9.9862534e-01 1.5181589e-03 3.9031857e-04 6.1259734e-06 1.7428491e-04]]], shape=(1, 1000, 5), dtype=float32)\n"
     ]
    }
   ],
   "source": [
    "import time\n",
    "import numpy as np\n",
    "import pandas as pd\n",
    "import tensorflow as tf\n",
    "\n",
    "GRU_model = tf.saved_model.load('./GRU/1', tags=None, options=None)\n",
    "RNN_model = tf.saved_model.load('./RNN/1', tags=None, options=None)\n",
    "\n",
    "file = \"../data/Raw/logRaws/20230916_01_19_56_061_1018_logRaws.csv\"\n",
    "df = pd.read_csv(file, usecols=[19, 20, 21, 25, 26, 27], header=None)\n",
    "df.columns = ['accel_x', 'accel_y', 'accel_z', 'gyro_x', 'gyro_y', 'gyro_z']\n",
    "\n",
    "df = df.values.reshape(1, 1000, 6).astype(np.float32)\n",
    "\n",
    "start = time.time()\n",
    "output = GRU_model(df)\n",
    "end = time.time()\n",
    "\n",
    "print(\"Time: \", end - start)\n",
    "print(\"Time in ms: \", (end - start) * 1000)\n",
    "print(\"Output: \", output)\n",
    "\n",
    "start = time.time()\n",
    "output = RNN_model(df)\n",
    "end = time.time()\n",
    "\n",
    "print(\"Time: \", end - start)\n",
    "print(\"Time in ms: \", (end - start) * 1000)\n",
    "print(\"Output: \", output)"
   ]
  }
 ],
 "metadata": {
  "kernelspec": {
   "display_name": "Python 3",
   "language": "python",
   "name": "python3"
  },
  "language_info": {
   "codemirror_mode": {
    "name": "ipython",
    "version": 3
   },
   "file_extension": ".py",
   "mimetype": "text/x-python",
   "name": "python",
   "nbconvert_exporter": "python",
   "pygments_lexer": "ipython3",
   "version": "3.8.10"
  }
 },
 "nbformat": 4,
 "nbformat_minor": 2
}
