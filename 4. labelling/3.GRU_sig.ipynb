{
  "cells": [
    {
      "cell_type": "code",
      "execution_count": 15,
      "metadata": {
        "colab": {
          "base_uri": "https://localhost:8080/"
        },
        "id": "RIP8nxOLhQUu",
        "outputId": "c1f6d7fa-cafe-47b6-fd6f-6f8ce1ee5481"
      },
      "outputs": [
        {
          "name": "stdout",
          "output_type": "stream",
          "text": [
            "(2662, 1000, 6)\n",
            "(2662, 1000, 1)\n"
          ]
        }
      ],
      "source": [
        "import os\n",
        "import pandas as pd\n",
        "import numpy as np\n",
        "\n",
        "DIR = \"./data/Raw/logRaws/\"\n",
        "\n",
        "NUM_SAMPLES = 2662\n",
        "NUM_FEATURES = 6\n",
        "NUM_FRAMES = 1000\n",
        "\n",
        "file_names = os.listdir(DIR)\n",
        "input_array = np.empty((NUM_SAMPLES, NUM_FRAMES, NUM_FEATURES))\n",
        "output_array = np.empty((NUM_SAMPLES, NUM_FRAMES, 1))\n",
        "\n",
        "# prepare data\n",
        "def read_files(DIR):\n",
        "    all_files = os.listdir(DIR)\n",
        "\n",
        "    input_data = np.empty((0, 6), float)\n",
        "    output_data = np.empty((0, 1), int)\n",
        "\n",
        "    for file in all_files:\n",
        "        file_path = os.path.join(DIR, file)\n",
        "        df = pd.read_csv(file_path, usecols=[1, 3, 19, 20, 21, 25, 26, 27], header=None)\n",
        "        if df.shape[0] < 999:\n",
        "            continue\n",
        "\n",
        "        df.columns = ['frame', 'status', 'accel_x', 'accel_y', 'accel_z', 'gyro_x', 'gyro_y', 'gyro_z']\n",
        "        df_input = df[['accel_x', 'accel_y', 'accel_z', 'gyro_x', 'gyro_y', 'gyro_z']]\n",
        "        df_input = df_input.astype('float32')\n",
        "        df_output = df[['status']]\n",
        "        df_output = df_output.astype('int')\n",
        "        df_frames = df[['frame']]\n",
        "        df_frames = df_frames.astype('int')\n",
        "\n",
        "        input_data = np.append(input_data, df_input, axis=0)\n",
        "        output_data = np.append(output_data, df_output, axis=0)\n",
        "\n",
        "    input_data = input_data.reshape(NUM_SAMPLES, NUM_FRAMES, NUM_FEATURES)\n",
        "    output_data = output_data.reshape(NUM_SAMPLES, NUM_FRAMES, 1)\n",
        "\n",
        "    return input_data, output_data\n",
        "\n",
        "input_data, output_data = read_files(DIR)\n",
        "\n",
        "print(input_data.shape)\n",
        "print(output_data.shape)"
      ]
    },
    {
      "cell_type": "code",
      "execution_count": 16,
      "metadata": {
        "colab": {
          "base_uri": "https://localhost:8080/"
        },
        "id": "MzMJgWAZywQa",
        "outputId": "673ce6b9-e682-49b9-81da-698272ac1b8a"
      },
      "outputs": [
        {
          "name": "stdout",
          "output_type": "stream",
          "text": [
            "Model: \"sequential_2\"\n",
            "_________________________________________________________________\n",
            " Layer (type)                Output Shape              Param #   \n",
            "=================================================================\n",
            " gru_4 (GRU)                 (None, 1000, 64)          13824     \n",
            "                                                                 \n",
            " dropout_4 (Dropout)         (None, 1000, 64)          0         \n",
            "                                                                 \n",
            " gru_5 (GRU)                 (None, 1000, 64)          24960     \n",
            "                                                                 \n",
            " dropout_5 (Dropout)         (None, 1000, 64)          0         \n",
            "                                                                 \n",
            " dense_2 (Dense)             (None, 1000, 5)           325       \n",
            "                                                                 \n",
            "=================================================================\n",
            "Total params: 39109 (152.77 KB)\n",
            "Trainable params: 39109 (152.77 KB)\n",
            "Non-trainable params: 0 (0.00 Byte)\n",
            "_________________________________________________________________\n",
            "Epoch 1/10\n",
            "50/50 [==============================] - 77s 1s/step - loss: 0.9863 - accuracy: 0.6476 - val_loss: 0.6255 - val_accuracy: 0.7139\n",
            "Epoch 2/10\n",
            "50/50 [==============================] - 69s 1s/step - loss: 0.5381 - accuracy: 0.7688 - val_loss: 0.4304 - val_accuracy: 0.8310\n",
            "Epoch 3/10\n",
            "50/50 [==============================] - 72s 1s/step - loss: 0.3621 - accuracy: 0.8704 - val_loss: 0.2909 - val_accuracy: 0.8992\n",
            "Epoch 4/10\n",
            "50/50 [==============================] - 69s 1s/step - loss: 0.2948 - accuracy: 0.8969 - val_loss: 0.2590 - val_accuracy: 0.9075\n",
            "Epoch 5/10\n",
            "50/50 [==============================] - 74s 1s/step - loss: 0.2604 - accuracy: 0.9084 - val_loss: 0.2305 - val_accuracy: 0.9183\n",
            "Epoch 6/10\n",
            "50/50 [==============================] - 73s 1s/step - loss: 0.2422 - accuracy: 0.9143 - val_loss: 0.2201 - val_accuracy: 0.9216\n",
            "Epoch 7/10\n",
            "50/50 [==============================] - 70s 1s/step - loss: 0.2320 - accuracy: 0.9177 - val_loss: 0.2180 - val_accuracy: 0.9195\n",
            "Epoch 8/10\n",
            "50/50 [==============================] - 73s 1s/step - loss: 0.2157 - accuracy: 0.9217 - val_loss: 0.2375 - val_accuracy: 0.9124\n",
            "Epoch 9/10\n",
            "50/50 [==============================] - 69s 1s/step - loss: 0.2088 - accuracy: 0.9247 - val_loss: 0.1845 - val_accuracy: 0.9297\n",
            "Epoch 10/10\n",
            "50/50 [==============================] - 73s 1s/step - loss: 0.1914 - accuracy: 0.9303 - val_loss: 0.1759 - val_accuracy: 0.9338\n",
            "17/17 [==============================] - 4s 212ms/step - loss: 0.1769 - accuracy: 0.9352\n",
            "[0.17686477303504944, 0.9351992607116699]\n"
          ]
        }
      ],
      "source": [
        "from keras.utils import to_categorical\n",
        "\n",
        "# one-hot encoding\n",
        "output_data = to_categorical(output_data)\n",
        "\n",
        "from sklearn.model_selection import train_test_split\n",
        "\n",
        "# split data into train and remaining\n",
        "X_train, X_remaining, y_train, y_remaining = train_test_split(input_data, output_data, test_size=0.4, random_state=42)\n",
        "\n",
        "# split the remaining data into test set and validation set (equal split)\n",
        "X_test, X_val, y_test, y_val = train_test_split(X_remaining, y_remaining, test_size=0.5, random_state=42)\n",
        "\n",
        "# build model\n",
        "from keras.models import Sequential\n",
        "from keras.layers import GRU, Dropout, Dense\n",
        "\n",
        "model = Sequential([\n",
        "    GRU(64, input_shape=(NUM_FRAMES, NUM_FEATURES), return_sequences=True),\n",
        "    Dropout(0.2),\n",
        "    GRU(64, return_sequences=True),\n",
        "    Dropout(0.2),\n",
        "    Dense(5, activation='sigmoid')\n",
        "])\n",
        "\n",
        "model.compile(loss='categorical_crossentropy', optimizer='adam', metrics=['accuracy'])\n",
        "\n",
        "model.summary()\n",
        "\n",
        "# train model\n",
        "model.fit(X_train, y_train, epochs=10, batch_size=32, validation_data=(X_val, y_val))\n",
        "\n",
        "# evaluate model\n",
        "score = model.evaluate(X_test, y_test, batch_size=32)\n",
        "print(score)\n",
        "\n",
        "# save model"
      ]
    },
    {
      "cell_type": "code",
      "execution_count": 17,
      "metadata": {
        "colab": {
          "base_uri": "https://localhost:8080/"
        },
        "id": "VTwoPellzSfV",
        "outputId": "cf963500-c705-4336-d97a-c4b2fcd582d6"
      },
      "outputs": [
        {
          "name": "stderr",
          "output_type": "stream",
          "text": [
            "/usr/local/lib/python3.10/dist-packages/keras/src/engine/training.py:3079: UserWarning: You are saving your model as an HDF5 file via `model.save()`. This file format is considered legacy. We recommend using instead the native Keras format, e.g. `model.save('my_model.keras')`.\n",
            "  saving_api.save_model(\n"
          ]
        }
      ],
      "source": [
        "\n",
        "model.save('./data/Model/RNN_LSTM_relu.h5')"
      ]
    }
  ],
  "metadata": {
    "colab": {
      "provenance": []
    },
    "kernelspec": {
      "display_name": "Python 3",
      "name": "python3"
    },
    "language_info": {
      "name": "python",
      "version": "3.9.5"
    }
  },
  "nbformat": 4,
  "nbformat_minor": 0
}
