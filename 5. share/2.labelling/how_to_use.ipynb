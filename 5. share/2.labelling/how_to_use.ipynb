{
 "cells": [
  {
   "cell_type": "code",
   "execution_count": 33,
   "metadata": {},
   "outputs": [
    {
     "name": "stdout",
     "output_type": "stream",
     "text": [
      "Time (GRU):  0.28224682807922363\n",
      "Time in ms (GRU):  282.24682807922363\n",
      "Output (GRU):  tf.Tensor(\n",
      "[[[0.8065981  0.54687846 0.2792605  0.21243425 0.19723189]\n",
      "  [0.9508189  0.6456507  0.1256944  0.05489716 0.04482185]\n",
      "  [0.98314255 0.70317096 0.06610167 0.01903547 0.01442291]\n",
      "  ...\n",
      "  [0.9509814  0.00910699 0.14307682 0.59817255 0.9931962 ]\n",
      "  [0.9731551  0.01043329 0.10060988 0.432361   0.98062587]\n",
      "  [0.986334   0.01279209 0.06511406 0.2637896  0.9440662 ]]], shape=(1, 1000, 5), dtype=float32)\n",
      "Time (RNN):  0.2998473644256592\n",
      "Time in ms (RNN):  299.8473644256592\n",
      "Output (RNN):  tf.Tensor(\n",
      "[[[0.5576937  0.3966731  0.29789022 0.25793627 0.29082534]\n",
      "  [0.68540704 0.26910362 0.13515835 0.06632127 0.10586473]\n",
      "  [0.8461213  0.1179259  0.03021879 0.00527145 0.01623538]\n",
      "  ...\n",
      "  [0.03628332 0.01420726 0.02907273 0.02232377 0.9243987 ]\n",
      "  [0.04697715 0.01252752 0.02413388 0.01614206 0.9156658 ]\n",
      "  [0.06397144 0.01055226 0.01970582 0.01103285 0.9024854 ]]], shape=(1, 1000, 5), dtype=float32)\n"
     ]
    }
   ],
   "source": [
    "import time\n",
    "import numpy as np\n",
    "import pandas as pd\n",
    "import tensorflow as tf\n",
    "\n",
    "GRU_model = tf.saved_model.load('./GRU/1', tags=None, options=None)\n",
    "RNN_model = tf.saved_model.load('./RNN/1', tags=None, options=None)\n",
    "\n",
    "file = \"./example_input.csv\"\n",
    "df = pd.read_csv(file, usecols=[19, 20, 21, 25, 26, 27], header=None)\n",
    "df.columns = ['accel_x', 'accel_y', 'accel_z', 'gyro_x', 'gyro_y', 'gyro_z']\n",
    "\n",
    "input = df.values.reshape(1, 1000, 6).astype(np.float32)\n",
    "\n",
    "start = time.time()\n",
    "output_gru = GRU_model(input)\n",
    "end = time.time()\n",
    "\n",
    "print(\"Time (GRU): \", end - start)\n",
    "print(\"Time in ms (GRU): \", (end - start) * 1000)\n",
    "print(\"Output (GRU): \", output_gru)\n",
    "\n",
    "start = time.time()\n",
    "output_rnn = RNN_model(input)\n",
    "end = time.time()\n",
    "\n",
    "print(\"Time (RNN): \", end - start)\n",
    "print(\"Time in ms (RNN): \", (end - start) * 1000)\n",
    "print(\"Output (RNN): \", output_rnn)"
   ]
  }
 ],
 "metadata": {
  "kernelspec": {
   "display_name": "Python 3",
   "language": "python",
   "name": "python3"
  },
  "language_info": {
   "codemirror_mode": {
    "name": "ipython",
    "version": 3
   },
   "file_extension": ".py",
   "mimetype": "text/x-python",
   "name": "python",
   "nbconvert_exporter": "python",
   "pygments_lexer": "ipython3",
   "version": "3.8.10"
  }
 },
 "nbformat": 4,
 "nbformat_minor": 2
}
