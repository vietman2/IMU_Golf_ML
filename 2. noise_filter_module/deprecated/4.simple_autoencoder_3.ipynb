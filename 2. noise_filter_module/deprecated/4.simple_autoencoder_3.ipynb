{
 "cells": [
  {
   "cell_type": "code",
   "execution_count": 5,
   "metadata": {},
   "outputs": [],
   "source": [
    "import os\n",
    "import numpy as np\n",
    "import pandas as pd\n",
    "from tensorflow.keras.layers import Flatten, Dense, Reshape, Input\n",
    "from tensorflow.keras.models import Model\n",
    "from tensorflow.keras import Sequential\n",
    "\n",
    "def simple_autoencoder():\n",
    "    autoencoder = Sequential([\n",
    "        # Encoder\n",
    "        Input(shape=(1000, 1)),\n",
    "        Flatten(),\n",
    "        Dense(32, activation='relu'),\n",
    "\n",
    "        # Bottleneck\n",
    "        Dense(5, activation='relu'),\n",
    "\n",
    "        # Decoder\n",
    "        Dense(32, activation='relu'),\n",
    "        Dense(1000, activation='tanh'),\n",
    "        Reshape((1000, 1))\n",
    "    ])\n",
    "\n",
    "    return autoencoder"
   ]
  },
  {
   "cell_type": "code",
   "execution_count": 6,
   "metadata": {},
   "outputs": [
    {
     "data": {
      "text/plain": [
       "(2662, 1000, 1)"
      ]
     },
     "execution_count": 6,
     "metadata": {},
     "output_type": "execute_result"
    }
   ],
   "source": [
    "DIR = \"../data/Raw/logRaws/\"\n",
    "\n",
    "NUM_SAMPLES = 2662\n",
    "NUM_FEATURES = 1\n",
    "NUM_FRAMES = 1000\n",
    "\n",
    "file_names = os.listdir(DIR)\n",
    "input_array = np.empty((NUM_SAMPLES, NUM_FRAMES, NUM_FEATURES))\n",
    "\n",
    "# prepare data\n",
    "def read_files(DIR):\n",
    "    all_files = os.listdir(DIR)\n",
    "\n",
    "    input_data = np.empty((0, 1), float)\n",
    "\n",
    "    for file in all_files:\n",
    "        file_path = os.path.join(DIR, file)\n",
    "        df = pd.read_csv(file_path, usecols=[1, 16], header=None)\n",
    "        if df.shape[0] < 999:\n",
    "            continue\n",
    "\n",
    "        df.columns = ['frame', 'accel_x']\n",
    "        df_input = df[['accel_x']]\n",
    "        df_input = df_input.astype('float32')\n",
    "\n",
    "        input_data = np.append(input_data, df_input, axis=0)\n",
    "    input_data = input_data.reshape(NUM_SAMPLES, NUM_FRAMES, NUM_FEATURES)\n",
    "\n",
    "    # divide by 16 to normalize\n",
    "    input_data = input_data / 16\n",
    "\n",
    "    return input_data\n",
    "\n",
    "input_data = read_files(DIR)\n",
    "\n",
    "input_data.shape\n"
   ]
  },
  {
   "cell_type": "code",
   "execution_count": 7,
   "metadata": {},
   "outputs": [
    {
     "name": "stdout",
     "output_type": "stream",
     "text": [
      "Model: \"sequential_1\"\n",
      "_________________________________________________________________\n",
      " Layer (type)                Output Shape              Param #   \n",
      "=================================================================\n",
      " flatten_1 (Flatten)         (None, 1000)              0         \n",
      "                                                                 \n",
      " dense_4 (Dense)             (None, 32)                32032     \n",
      "                                                                 \n",
      " dense_5 (Dense)             (None, 5)                 165       \n",
      "                                                                 \n",
      " dense_6 (Dense)             (None, 32)                192       \n",
      "                                                                 \n",
      " dense_7 (Dense)             (None, 1000)              33000     \n",
      "                                                                 \n",
      " reshape_1 (Reshape)         (None, 1000, 1)           0         \n",
      "                                                                 \n",
      "=================================================================\n",
      "Total params: 65389 (255.43 KB)\n",
      "Trainable params: 65389 (255.43 KB)\n",
      "Non-trainable params: 0 (0.00 Byte)\n",
      "_________________________________________________________________\n",
      "Epoch 1/50\n",
      "67/67 [==============================] - 1s 6ms/step - loss: 0.0037 - val_loss: 0.0032\n",
      "Epoch 2/50\n",
      "67/67 [==============================] - 1s 9ms/step - loss: 0.0030 - val_loss: 0.0027\n",
      "Epoch 3/50\n",
      "67/67 [==============================] - 0s 4ms/step - loss: 0.0026 - val_loss: 0.0025\n",
      "Epoch 4/50\n",
      "67/67 [==============================] - 0s 5ms/step - loss: 0.0025 - val_loss: 0.0025\n",
      "Epoch 5/50\n",
      "67/67 [==============================] - 0s 4ms/step - loss: 0.0024 - val_loss: 0.0024\n",
      "Epoch 6/50\n",
      "67/67 [==============================] - 0s 5ms/step - loss: 0.0024 - val_loss: 0.0024\n",
      "Epoch 7/50\n",
      "67/67 [==============================] - 0s 5ms/step - loss: 0.0023 - val_loss: 0.0024\n",
      "Epoch 8/50\n",
      "67/67 [==============================] - 0s 4ms/step - loss: 0.0023 - val_loss: 0.0024\n",
      "Epoch 9/50\n",
      "67/67 [==============================] - 0s 3ms/step - loss: 0.0023 - val_loss: 0.0023\n",
      "Epoch 10/50\n",
      "67/67 [==============================] - 0s 4ms/step - loss: 0.0023 - val_loss: 0.0023\n",
      "Epoch 11/50\n",
      "67/67 [==============================] - 0s 4ms/step - loss: 0.0022 - val_loss: 0.0023\n",
      "Epoch 12/50\n",
      "67/67 [==============================] - 0s 3ms/step - loss: 0.0022 - val_loss: 0.0023\n",
      "Epoch 13/50\n",
      "67/67 [==============================] - 0s 3ms/step - loss: 0.0022 - val_loss: 0.0023\n",
      "Epoch 14/50\n",
      "67/67 [==============================] - 0s 6ms/step - loss: 0.0022 - val_loss: 0.0022\n",
      "Epoch 15/50\n",
      "67/67 [==============================] - 0s 5ms/step - loss: 0.0022 - val_loss: 0.0022\n",
      "Epoch 16/50\n",
      "67/67 [==============================] - 0s 6ms/step - loss: 0.0021 - val_loss: 0.0022\n",
      "Epoch 17/50\n",
      "67/67 [==============================] - 0s 4ms/step - loss: 0.0021 - val_loss: 0.0022\n",
      "Epoch 18/50\n",
      "67/67 [==============================] - 0s 6ms/step - loss: 0.0021 - val_loss: 0.0022\n",
      "Epoch 19/50\n",
      "67/67 [==============================] - 0s 7ms/step - loss: 0.0021 - val_loss: 0.0022\n",
      "Epoch 20/50\n",
      "67/67 [==============================] - 0s 7ms/step - loss: 0.0021 - val_loss: 0.0022\n",
      "Epoch 21/50\n",
      "67/67 [==============================] - 1s 9ms/step - loss: 0.0021 - val_loss: 0.0022\n",
      "Epoch 22/50\n",
      "67/67 [==============================] - 1s 8ms/step - loss: 0.0021 - val_loss: 0.0021\n",
      "Epoch 23/50\n",
      "67/67 [==============================] - 1s 8ms/step - loss: 0.0021 - val_loss: 0.0021\n",
      "Epoch 24/50\n",
      "67/67 [==============================] - 1s 8ms/step - loss: 0.0020 - val_loss: 0.0021\n",
      "Epoch 25/50\n",
      "67/67 [==============================] - 0s 6ms/step - loss: 0.0020 - val_loss: 0.0021\n",
      "Epoch 26/50\n",
      "67/67 [==============================] - 0s 7ms/step - loss: 0.0020 - val_loss: 0.0021\n",
      "Epoch 27/50\n",
      "67/67 [==============================] - 1s 8ms/step - loss: 0.0020 - val_loss: 0.0021\n",
      "Epoch 28/50\n",
      "67/67 [==============================] - 0s 6ms/step - loss: 0.0020 - val_loss: 0.0021\n",
      "Epoch 29/50\n",
      "67/67 [==============================] - 0s 5ms/step - loss: 0.0020 - val_loss: 0.0021\n",
      "Epoch 30/50\n",
      "67/67 [==============================] - 0s 5ms/step - loss: 0.0020 - val_loss: 0.0021\n",
      "Epoch 31/50\n",
      "67/67 [==============================] - 0s 4ms/step - loss: 0.0020 - val_loss: 0.0021\n",
      "Epoch 32/50\n",
      "67/67 [==============================] - 0s 4ms/step - loss: 0.0020 - val_loss: 0.0021\n",
      "Epoch 33/50\n",
      "67/67 [==============================] - 0s 5ms/step - loss: 0.0020 - val_loss: 0.0021\n",
      "Epoch 34/50\n",
      "67/67 [==============================] - 0s 5ms/step - loss: 0.0020 - val_loss: 0.0020\n",
      "Epoch 35/50\n",
      "67/67 [==============================] - 0s 5ms/step - loss: 0.0020 - val_loss: 0.0020\n",
      "Epoch 36/50\n",
      "67/67 [==============================] - 1s 8ms/step - loss: 0.0019 - val_loss: 0.0020\n",
      "Epoch 37/50\n",
      "67/67 [==============================] - 1s 8ms/step - loss: 0.0019 - val_loss: 0.0020\n",
      "Epoch 38/50\n",
      "67/67 [==============================] - 1s 7ms/step - loss: 0.0019 - val_loss: 0.0020\n",
      "Epoch 39/50\n",
      "67/67 [==============================] - 1s 8ms/step - loss: 0.0019 - val_loss: 0.0020\n",
      "Epoch 40/50\n",
      "67/67 [==============================] - 1s 9ms/step - loss: 0.0019 - val_loss: 0.0020\n",
      "Epoch 41/50\n",
      "67/67 [==============================] - 1s 9ms/step - loss: 0.0019 - val_loss: 0.0020\n",
      "Epoch 42/50\n",
      "67/67 [==============================] - 0s 7ms/step - loss: 0.0019 - val_loss: 0.0020\n",
      "Epoch 43/50\n",
      "67/67 [==============================] - 0s 6ms/step - loss: 0.0019 - val_loss: 0.0020\n",
      "Epoch 44/50\n",
      "67/67 [==============================] - 0s 5ms/step - loss: 0.0019 - val_loss: 0.0020\n",
      "Epoch 45/50\n",
      "67/67 [==============================] - 0s 5ms/step - loss: 0.0019 - val_loss: 0.0020\n",
      "Epoch 46/50\n",
      "67/67 [==============================] - 0s 5ms/step - loss: 0.0019 - val_loss: 0.0020\n",
      "Epoch 47/50\n",
      "67/67 [==============================] - 0s 4ms/step - loss: 0.0019 - val_loss: 0.0020\n",
      "Epoch 48/50\n",
      "67/67 [==============================] - 0s 4ms/step - loss: 0.0019 - val_loss: 0.0020\n",
      "Epoch 49/50\n",
      "67/67 [==============================] - 0s 4ms/step - loss: 0.0019 - val_loss: 0.0020\n",
      "Epoch 50/50\n",
      "67/67 [==============================] - 0s 5ms/step - loss: 0.0019 - val_loss: 0.0020\n"
     ]
    },
    {
     "data": {
      "text/plain": [
       "<keras.src.callbacks.History at 0x7f317334fa60>"
      ]
     },
     "execution_count": 7,
     "metadata": {},
     "output_type": "execute_result"
    }
   ],
   "source": [
    "from sklearn.model_selection import train_test_split\n",
    "\n",
    "X_train, X_test = train_test_split(input_data, test_size=0.2, random_state=42)\n",
    "\n",
    "# compile autoencoder\n",
    "autoencoder = simple_autoencoder()\n",
    "autoencoder.compile(optimizer='adam', loss='mse')\n",
    "autoencoder.summary()\n",
    "\n",
    "# train autoencoder\n",
    "autoencoder.fit(X_train, X_train,\n",
    "                epochs=50,\n",
    "                batch_size=32,\n",
    "                validation_data=(X_test, X_test))\n",
    "\n"
   ]
  },
  {
   "cell_type": "code",
   "execution_count": 8,
   "metadata": {},
   "outputs": [
    {
     "name": "stdout",
     "output_type": "stream",
     "text": [
      "17/17 [==============================] - 0s 6ms/step\n"
     ]
    },
    {
     "data": {
      "image/png": "[encoded data removed]",
      "text/plain": [
       "<Figure size 640x480 with 1 Axes>"
      ]
     },
     "metadata": {},
     "output_type": "display_data"
    }
   ],
   "source": [
    "import matplotlib.pyplot as plt\n",
    "\n",
    "filtered_data = autoencoder.predict(X_test)\n",
    "\n",
    "INDEX = 1\n",
    "\n",
    "plt.plot(X_test[INDEX])\n",
    "plt.plot(filtered_data[INDEX])\n",
    "plt.legend(['original', 'filtered'])\n",
    "plt.show()\n"
   ]
  }
 ],
 "metadata": {
  "kernelspec": {
   "display_name": "Python 3",
   "language": "python",
   "name": "python3"
  },
  "language_info": {
   "codemirror_mode": {
    "name": "ipython",
    "version": 3
   },
   "file_extension": ".py",
   "mimetype": "text/x-python",
   "name": "python",
   "nbconvert_exporter": "python",
   "pygments_lexer": "ipython3",
   "version": "3.8.10"
  }
 },
 "nbformat": 4,
 "nbformat_minor": 2
}
