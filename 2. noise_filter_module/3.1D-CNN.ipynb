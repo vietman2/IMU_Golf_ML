{
 "cells": [
  {
   "cell_type": "code",
   "execution_count": 4,
   "metadata": {},
   "outputs": [
    {
     "name": "stdout",
     "output_type": "stream",
     "text": [
      "Unexpected shape for data_array: (0,). Expected (n_samples, SEQUENCE_LENGTH, n_features).\n"
     ]
    }
   ],
   "source": [
    "import os\n",
    "import numpy as np\n",
    "import pandas as pd\n",
    "from sklearn.model_selection import train_test_split\n",
    "from sklearn.preprocessing import MinMaxScaler\n",
    "from tensorflow import keras\n",
    "\n",
    "# Constants\n",
    "DATA_PATH = '../data/Raw/logRaws/'\n",
    "SEQUENCE_LENGTH = 1000  \n",
    "\n",
    "# Load and preprocess data\n",
    "all_files = os.listdir(DATA_PATH)\n",
    "data_list = []\n",
    "\n",
    "scaler = MinMaxScaler()\n",
    "\n",
    "for file in all_files:\n",
    "    file_path = os.path.join(DATA_PATH, file)\n",
    "    data = pd.read_csv(file_path, usecols=[16, 21]).dropna().values  \n",
    "    data_scaled = scaler.fit_transform(data)\n",
    "    \n",
    "    # Skip files with insufficient data\n",
    "    if len(data_scaled) < SEQUENCE_LENGTH:  \n",
    "        continue\n",
    "    \n",
    "    # Ensure that data is correctly shaped\n",
    "    if data_scaled.shape != (SEQUENCE_LENGTH, 2):\n",
    "        print(f\"Unexpected shape for file {file}: {data_scaled.shape}. Skipping.\")\n",
    "        continue\n",
    "    \n",
    "    data_list.append(data_scaled)\n",
    "\n",
    "# Convert to NumPy array\n",
    "data_array = np.array(data_list)\n",
    "\n",
    "# Check array shape\n",
    "if len(data_array.shape) != 3:\n",
    "    print(f\"Unexpected shape for data_array: {data_array.shape}. Expected (n_samples, SEQUENCE_LENGTH, n_features).\")\n",
    "else:\n",
    "    # Separate inputs and outputs\n",
    "    X = data_array[:, :, 0].reshape(-1, SEQUENCE_LENGTH, 1)\n",
    "    y = data_array[:, :, 1].reshape(-1, SEQUENCE_LENGTH, 1)\n",
    "\n",
    "    # Split into training and test sets\n",
    "    X_train, X_test, y_train, y_test = train_test_split(X, y, test_size=0.2, random_state=42)\n",
    "\n",
    "    # Define model\n",
    "    model = keras.models.Sequential([\n",
    "        keras.layers.Input(shape=(SEQUENCE_LENGTH, 1)),\n",
    "        keras.layers.Conv1D(filters=64, kernel_size=3, activation='relu', padding='same'),\n",
    "        keras.layers.Dense(1)\n",
    "    ])\n",
    "\n",
    "    # Compile model\n",
    "    model.compile(optimizer='adam', loss='mse', metrics=['mae'])\n",
    "\n",
    "    # Train model\n",
    "    model.fit(X_train, y_train, epochs=10, batch_size=32, validation_data=(X_test, y_test))\n",
    "\n",
    "    # Evaluate model\n",
    "    model.evaluate(X_test, y_test)\n"
   ]
  }
 ],
 "metadata": {
  "kernelspec": {
   "display_name": "Python 3",
   "language": "python",
   "name": "python3"
  },
  "language_info": {
   "codemirror_mode": {
    "name": "ipython",
    "version": 3
   },
   "file_extension": ".py",
   "mimetype": "text/x-python",
   "name": "python",
   "nbconvert_exporter": "python",
   "pygments_lexer": "ipython3",
   "version": "3.9.5"
  }
 },
 "nbformat": 4,
 "nbformat_minor": 2
}
