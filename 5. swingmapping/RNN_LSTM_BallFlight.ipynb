{
 "cells": [
  {
   "cell_type": "code",
   "execution_count": 47,
   "metadata": {},
   "outputs": [
    {
     "name": "stdout",
     "output_type": "stream",
     "text": [
      "<class 'numpy.float64'>\n"
     ]
    }
   ],
   "source": [
    "import numpy as np\n",
    "from tensorflow.keras.models import Sequential\n",
    "from tensorflow.keras.layers import LSTM, Dense, Masking, Dropout\n",
    "from sklearn.model_selection import train_test_split\n",
    "from tensorflow.keras.preprocessing.sequence import pad_sequences\n",
    "import pandas as pd\n",
    "\n",
    "from process import preprocess_all_files\n",
    "\n",
    "data = preprocess_all_files()\n",
    "\n",
    "\n",
    "# Extract X and Y from the data\n",
    "X_data = [item[0] for item in data]\n",
    "Y_data = [item[1] for item in data]\n",
    "\n",
    "# Pad or truncate sequences to a fixed length\n",
    "# max_sequence_length = 999  # Maximum sequence length\n",
    "# X_data = pad_sequences(X_data, maxlen=max_sequence_length, padding='post', dtype='float32')\n",
    "\n",
    "# Convert lists to numpy arrays\n",
    "X_data = np.array(X_data)\n",
    "Y_data = np.array(Y_data)\n",
    "\n",
    "# Split data\n",
    "X_train, X_test, Y_train, Y_test = train_test_split(X_data, Y_data, test_size=0.2, random_state=42)\n",
    "\n",
    "# Define model\n",
    "model = Sequential()\n",
    "# model.add(Masking(mask_value=0.0, input_shape=(max_sequence_length, 7)))\n",
    "model.add(LSTM(units=50))\n",
    "model.add(Dense(units=10, activation='linear'))  \n",
    "\n",
    "# model = Sequential([\n",
    "#     LSTM(64, input_shape=(3827, 999, 7), return_sequences=True),\n",
    "#     Dropout(0.2),\n",
    "#     LSTM(64, return_sequences=True),\n",
    "#     Dropout(0.2),\n",
    "#     Dense(5, activation='sigmoid')\n",
    "# ])\n",
    "\n",
    "# Compile modle\n",
    "model.compile(optimizer='adam', loss='binary_crossentropy', metrics=['accuracy'])\n",
    "\n",
    "# Train model\n",
    "model.fit(X_train, Y_train, epochs=10, batch_size=32, validation_split=0.2) \n",
    "\n",
    "# Evaluate model\n",
    "loss = model.evaluate(X_test, Y_test)\n",
    "print(f\"Test Loss: {loss}\")"
   ]
  }
 ],
 "metadata": {
  "kernelspec": {
   "display_name": "Python 3",
   "language": "python",
   "name": "python3"
  },
  "language_info": {
   "codemirror_mode": {
    "name": "ipython",
    "version": 3
   },
   "file_extension": ".py",
   "mimetype": "text/x-python",
   "name": "python",
   "nbconvert_exporter": "python",
   "pygments_lexer": "ipython3",
   "version": "3.11.4"
  }
 },
 "nbformat": 4,
 "nbformat_minor": 2
}
