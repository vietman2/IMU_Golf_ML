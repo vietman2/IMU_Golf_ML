{
 "cells": [
  {
   "cell_type": "code",
   "execution_count": 23,
   "metadata": {},
   "outputs": [
    {
     "name": "stdout",
     "output_type": "stream",
     "text": [
      "(array([[ 1.        ,  0.22533894, -0.37617263, ..., -0.03667128,\n",
      "        -0.06526835,  0.02950843],\n",
      "       [ 1.        ,  0.22355048, -0.37506536, ..., -0.02676817,\n",
      "        -0.06219667,  0.03502281],\n",
      "       [ 1.        ,  0.22865094, -0.3745335 , ..., -0.01353437,\n",
      "        -0.04698311,  0.03366825],\n",
      "       ...,\n",
      "       [ 4.        ,  0.92228913, -0.14020322, ..., -0.20870168,\n",
      "         0.34647736, -0.30882737],\n",
      "       [ 4.        ,  0.9251055 , -0.16115499, ..., -0.23629583,\n",
      "         0.20737056, -0.29414824],\n",
      "       [ 4.        ,  0.90814066, -0.18164802, ..., -0.32424653,\n",
      "        -0.35834023, -0.2307228 ]]), {'CGUID': '1018', 'Date': '20230916_01:16:54:377', 'ShotResult': [7.697021961212158, 25.65673828125, -0.608303964138031, 8.458624733975739e-07, -2.7872023582458496, 2.058823585510254, 97.85504913330078, 0.3499999940395355, 0.17000000178813934, 1.0]})\n"
     ]
    },
    {
     "ename": "AttributeError",
     "evalue": "'dict' object has no attribute 'shape'",
     "output_type": "error",
     "traceback": [
      "\u001b[1;31m---------------------------------------------------------------------------\u001b[0m",
      "\u001b[1;31mAttributeError\u001b[0m                            Traceback (most recent call last)",
      "\u001b[1;32mc:\\Users\\James\\Documents\\GitHub\\IMU_Golf_ML\\5. swingmapping\\RNN_LSTM_BallFlight.ipynb Cell 1\u001b[0m line \u001b[0;36m2\n\u001b[0;32m     <a href='vscode-notebook-cell:/c%3A/Users/James/Documents/GitHub/IMU_Golf_ML/5.%20swingmapping/RNN_LSTM_BallFlight.ipynb#W0sZmlsZQ%3D%3D?line=26'>27</a>\u001b[0m model \u001b[39m=\u001b[39m Sequential()\n\u001b[0;32m     <a href='vscode-notebook-cell:/c%3A/Users/James/Documents/GitHub/IMU_Golf_ML/5.%20swingmapping/RNN_LSTM_BallFlight.ipynb#W0sZmlsZQ%3D%3D?line=27'>28</a>\u001b[0m model\u001b[39m.\u001b[39madd(LSTM(units\u001b[39m=\u001b[39m\u001b[39m50\u001b[39m, activation\u001b[39m=\u001b[39m\u001b[39m'\u001b[39m\u001b[39mrelu\u001b[39m\u001b[39m'\u001b[39m, input_shape\u001b[39m=\u001b[39m(train_data[\u001b[39m0\u001b[39m][\u001b[39m0\u001b[39m]\u001b[39m.\u001b[39mshape[\u001b[39m1\u001b[39m], \u001b[39m1\u001b[39m)))\n\u001b[1;32m---> <a href='vscode-notebook-cell:/c%3A/Users/James/Documents/GitHub/IMU_Golf_ML/5.%20swingmapping/RNN_LSTM_BallFlight.ipynb#W0sZmlsZQ%3D%3D?line=28'>29</a>\u001b[0m model\u001b[39m.\u001b[39madd(Dense(units\u001b[39m=\u001b[39mtrain_data[\u001b[39m0\u001b[39;49m][\u001b[39m1\u001b[39;49m]\u001b[39m.\u001b[39;49mshape[\u001b[39m1\u001b[39m], activation\u001b[39m=\u001b[39m\u001b[39m'\u001b[39m\u001b[39mlinear\u001b[39m\u001b[39m'\u001b[39m))\n\u001b[0;32m     <a href='vscode-notebook-cell:/c%3A/Users/James/Documents/GitHub/IMU_Golf_ML/5.%20swingmapping/RNN_LSTM_BallFlight.ipynb#W0sZmlsZQ%3D%3D?line=31'>32</a>\u001b[0m model\u001b[39m.\u001b[39mcompile(optimizer\u001b[39m=\u001b[39m\u001b[39m'\u001b[39m\u001b[39madam\u001b[39m\u001b[39m'\u001b[39m, loss\u001b[39m=\u001b[39m\u001b[39m'\u001b[39m\u001b[39mmean_squared_error\u001b[39m\u001b[39m'\u001b[39m, metrics\u001b[39m=\u001b[39m[\u001b[39m'\u001b[39m\u001b[39mmae\u001b[39m\u001b[39m'\u001b[39m])\n\u001b[0;32m     <a href='vscode-notebook-cell:/c%3A/Users/James/Documents/GitHub/IMU_Golf_ML/5.%20swingmapping/RNN_LSTM_BallFlight.ipynb#W0sZmlsZQ%3D%3D?line=33'>34</a>\u001b[0m \u001b[39mfor\u001b[39;00m X_train, y_train \u001b[39min\u001b[39;00m train_data:\n\u001b[0;32m     <a href='vscode-notebook-cell:/c%3A/Users/James/Documents/GitHub/IMU_Golf_ML/5.%20swingmapping/RNN_LSTM_BallFlight.ipynb#W0sZmlsZQ%3D%3D?line=34'>35</a>\u001b[0m     \u001b[39m# Expand dimensions for LSTM input\u001b[39;00m\n",
      "\u001b[1;31mAttributeError\u001b[0m: 'dict' object has no attribute 'shape'"
     ]
    }
   ],
   "source": [
    "import os\n",
    "import pandas as pd\n",
    "import json\n",
    "import numpy as np\n",
    "from sklearn.model_selection import train_test_split\n",
    "from sklearn.preprocessing import StandardScaler\n",
    "from keras.models import Sequential\n",
    "from keras.layers import LSTM, Dense\n",
    "\n",
    "import import_ipynb\n",
    "from data_preprocessing import preprocess_all_files\n",
    "\n",
    "# Split the data into training and testing sets at the file level\n",
    "test_percentage = 0.2\n",
    "all_data = preprocess_all_files()\n",
    "\n",
    "num_test_files = int(len(all_data) * test_percentage)\n",
    "test_data = all_data[:num_test_files]\n",
    "train_data = all_data[num_test_files:]\n",
    "\n",
    "print(all_data[0])\n",
    "# print(\"Test Data Type: %s\" % type(all_data[0]))\n",
    "# print(\"test Data Count: %s\" % len(train_data))\n",
    "# print(test_data)\n",
    "\n",
    "# LSTM Model Training\n",
    "model = Sequential()\n",
    "model.add(LSTM(units=50, activation='relu', input_shape=(train_data[0][0].shape[1], 1)))\n",
    "model.add(Dense(units=train_data[0][1].shape[1], activation='linear'))\n",
    "\n",
    "\n",
    "model.compile(optimizer='adam', loss='mean_squared_error', metrics=['mae'])\n",
    "\n",
    "for X_train, y_train in train_data:\n",
    "    # Expand dimensions for LSTM input\n",
    "    X_train = X_train.reshape(X_train.shape[0], X_train.shape[1], 1)\n",
    "\n",
    "    # Train the model\n",
    "    model.fit(X_train, y_train, epochs=50, batch_size=32)\n",
    "\n",
    "# Now you can loop through 'test_data' to evaluate your model on the test set\n",
    "for X_test, y_test in test_data:\n",
    "    # Expand dimensions for LSTM input\n",
    "    X_test = X_test.reshape(X_test.shape[0], X_test.shape[1], 1)\n",
    "\n",
    "    # Evaluate the model\n",
    "    loss, mae = model.evaluate(X_test, y_test)\n",
    "    print(f\"Mean Absolute Error on Test Set: {mae}\")"
   ]
  }
 ],
 "metadata": {
  "kernelspec": {
   "display_name": "Python 3",
   "language": "python",
   "name": "python3"
  },
  "language_info": {
   "codemirror_mode": {
    "name": "ipython",
    "version": 3
   },
   "file_extension": ".py",
   "mimetype": "text/x-python",
   "name": "python",
   "nbconvert_exporter": "python",
   "pygments_lexer": "ipython3",
   "version": "3.11.4"
  }
 },
 "nbformat": 4,
 "nbformat_minor": 2
}
