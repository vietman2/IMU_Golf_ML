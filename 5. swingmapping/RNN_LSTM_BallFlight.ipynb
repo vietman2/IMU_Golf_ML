{
 "cells": [
  {
   "cell_type": "code",
   "execution_count": 58,
   "metadata": {},
   "outputs": [
    {
     "name": "stdout",
     "output_type": "stream",
     "text": [
      "<class 'list'>\n",
      "<class 'list'>\n",
      "(3058, 999, 7)\n",
      "(3058, 10)\n",
      "Epoch 1/10\n",
      "77/77 [==============================] - 35s 416ms/step - loss: -182.1978 - accuracy: 0.8786 - val_loss: -238.1642 - val_accuracy: 0.9869\n",
      "Epoch 2/10\n",
      "77/77 [==============================] - 31s 399ms/step - loss: -241.1133 - accuracy: 0.9685 - val_loss: -256.0772 - val_accuracy: 0.9690\n",
      "Epoch 3/10\n",
      "77/77 [==============================] - 31s 399ms/step - loss: -251.9891 - accuracy: 0.9399 - val_loss: -262.0338 - val_accuracy: 0.9314\n",
      "Epoch 4/10\n",
      "77/77 [==============================] - 31s 399ms/step - loss: -255.9053 - accuracy: 0.9158 - val_loss: -264.5950 - val_accuracy: 0.9020\n",
      "Epoch 5/10\n",
      "77/77 [==============================] - 31s 399ms/step - loss: -258.8315 - accuracy: 0.8962 - val_loss: -267.2805 - val_accuracy: 0.8644\n",
      "Epoch 6/10\n",
      "77/77 [==============================] - 31s 398ms/step - loss: -260.8419 - accuracy: 0.8659 - val_loss: -268.9406 - val_accuracy: 0.8366\n",
      "Epoch 7/10\n",
      "77/77 [==============================] - 31s 398ms/step - loss: -262.3483 - accuracy: 0.8332 - val_loss: -270.4536 - val_accuracy: 0.7974\n",
      "Epoch 8/10\n",
      "77/77 [==============================] - 31s 398ms/step - loss: -264.2722 - accuracy: 0.7890 - val_loss: -273.3610 - val_accuracy: 0.7598\n",
      "Epoch 9/10\n",
      "77/77 [==============================] - 31s 399ms/step - loss: -265.2764 - accuracy: 0.7641 - val_loss: -273.7154 - val_accuracy: 0.7614\n",
      "Epoch 10/10\n",
      "77/77 [==============================] - 31s 399ms/step - loss: -265.8862 - accuracy: 0.7686 - val_loss: -274.3859 - val_accuracy: 0.7680\n",
      "24/24 [==============================] - 3s 117ms/step - loss: -254.9562 - accuracy: 0.7830\n",
      "[-254.95619201660156, 0.7830065488815308]\n"
     ]
    }
   ],
   "source": [
    "import numpy as np\n",
    "from tensorflow.keras.models import Sequential\n",
    "from tensorflow.keras.layers import LSTM, Dense, Masking, Dropout, BatchNormalization\n",
    "from sklearn.model_selection import train_test_split\n",
    "from tensorflow.keras.preprocessing.sequence import pad_sequences\n",
    "import pandas as pd\n",
    "\n",
    "from process import preprocess_all_files\n",
    "\n",
    "data = preprocess_all_files()\n",
    "\n",
    "# Extract X and Y from the data\n",
    "X_data = [item[0] for item in data]\n",
    "Y_data = [item[1] for item in data]\n",
    "\n",
    "print(type(X_data))\n",
    "print(type(Y_data))\n",
    "\n",
    "# Pad or truncate sequences to a fixed length\n",
    "max_sequence_length = 999  # Maximum sequence length\n",
    "X_data = pad_sequences(X_data, maxlen=max_sequence_length, padding='post', dtype='float32')\n",
    "\n",
    "# Convert lists to numpy arrays\n",
    "X_data = np.array(X_data)\n",
    "Y_data = np.array(Y_data)\n",
    "\n",
    "\n",
    "# Split data\n",
    "X_train, X_test, Y_train, Y_test = train_test_split(X_data, Y_data, test_size=0.2, random_state=42)\n",
    "\n",
    "\n",
    "print(X_train.shape)\n",
    "print(Y_train.shape)\n",
    "\n",
    "# Define model\n",
    "model = Sequential()\n",
    "model.add(Masking(mask_value=0.0, input_shape=(999, 7)))\n",
    "model.add(LSTM(units=50, activation='tanh', recurrent_activation='sigmoid'))\n",
    "model.add(Dense(units=10, activation='linear'))\n",
    "\n",
    "# Compile modle\n",
    "model.compile(optimizer='adam', loss='binary_crossentropy', metrics=['accuracy'])\n",
    "model.summary()\n",
    "\n",
    "# Train model\n",
    "model.fit(X_train, Y_train, epochs=10, batch_size=32, validation_split=0.2) \n",
    "\n",
    "# Evaluate model\n",
    "score = model.evaluate(X_test, Y_test)\n",
    "print(score)"
   ]
  }
 ],
 "metadata": {
  "kernelspec": {
   "display_name": "Python 3",
   "language": "python",
   "name": "python3"
  },
  "language_info": {
   "codemirror_mode": {
    "name": "ipython",
    "version": 3
   },
   "file_extension": ".py",
   "mimetype": "text/x-python",
   "name": "python",
   "nbconvert_exporter": "python",
   "pygments_lexer": "ipython3",
   "version": "3.11.4"
  }
 },
 "nbformat": 4,
 "nbformat_minor": 2
}
